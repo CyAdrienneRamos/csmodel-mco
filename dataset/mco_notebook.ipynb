{
  "cells": [
    {
      "cell_type": "markdown",
      "id": "8SyUsD4Ed2xL",
      "metadata": {
        "id": "8SyUsD4Ed2xL"
      },
      "source": [
        "# CSMODEL Project: AI Copilot in Education Analysis\n",
        "Group 5\n",
        "\n",
        "## 1. Introduction\n",
        "\n",
        "This dataset was made by Emille Villacerat and Celbert Himang as part of their paper “Data on behavioural intention to use AI copilot through TAM and AI ecological education policy lens” last May 13, 2025. According to the paper, the study introduces a dataset examining the behavioral intention of the faculty and students of Cebu Technological University to adopt AI Copilot. The analysis is grounded in the Technology Acceptance Model (TAM) and the AI Ecological Education Policy Framework. Data was gathered through a quantitative survey, administered digitally to a diverse group of participants, including professors and students from different academic departments and year levels.\n",
        "\n",
        "The researchers gathered the data through an online, five point Likert Scale survey to assess the perceptions of AI Copilot adoption amongst respondents of Cebu Technological University. The questions used in the survey were derived from existing literature on technology acceptance and educational frameworks.\n",
        "\n",
        "Each row in the dataset corresponds to one respondent. 414 responses were gathered, however only 396 were deemed valid responses due to low variability of answers from 18 respondents. The whole survey, ranging from demographics, to likert scale questions, totals to 45 variables."
      ]
    },
    {
      "cell_type": "code",
      "execution_count": null,
      "id": "keUKWM5md2xO",
      "metadata": {
        "id": "keUKWM5md2xO"
      },
      "outputs": [],
      "source": [
        "# 1. Import Libraries\n",
        "import pandas as pd\n",
        "import numpy as np"
      ]
    },
    {
      "cell_type": "code",
      "execution_count": null,
      "id": "QnyFwkGDfnuU",
      "metadata": {
        "colab": {
          "base_uri": "https://localhost:8080/"
        },
        "id": "QnyFwkGDfnuU",
        "outputId": "33013d45-f06f-44f4-f3d7-28c01c67ac9a"
      },
      "outputs": [
        {
          "name": "stdout",
          "output_type": "stream",
          "text": [
            "ERROR: File not found. Make sure the CSV file is uploaded to your Colab environment.\n"
          ]
        }
      ],
      "source": [
        "# 2. Load the Dataset\n",
        "\n",
        "file_path = 'survey_raw_data.xls'\n",
        "df = pd.read_excel(file_path, index_col=0)\n",
        "df.info()"
      ]
    },
    {
      "cell_type": "markdown",
      "id": "Cl99gr6ZgsED",
      "metadata": {
        "id": "Cl99gr6ZgsED"
      },
      "source": []
    }
  ],
  "metadata": {
    "colab": {
      "provenance": []
    },
    "kernelspec": {
      "display_name": "Python 3",
      "language": "python",
      "name": "python3"
    },
    "language_info": {
      "codemirror_mode": {
        "name": "ipython",
        "version": 3
      },
      "file_extension": ".py",
      "mimetype": "text/x-python",
      "name": "python",
      "nbconvert_exporter": "python",
      "pygments_lexer": "ipython3",
      "version": "3.11.5"
    }
  },
  "nbformat": 4,
  "nbformat_minor": 5
}
